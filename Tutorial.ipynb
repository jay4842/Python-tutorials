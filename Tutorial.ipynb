{
 "cells": [
  {
   "cell_type": "markdown",
   "metadata": {},
   "source": [
    "# Getting started\n",
    "First we need to install python if it is not already on your machine.\n",
    "To check if it is installed:\n",
    "\n",
    "PC: Open up the command prompt or cmd.\n",
    "MAC/OSX: Open up terminal.\n",
    "\n",
    "Then proceed by typing:\n",
    "\n",
    "    python\n",
    "\n",
    "If you see something saying:\n",
    "Python 3.5.2\n",
    "or \n",
    "Python 2.7.14\n",
    "\n",
    "That means it is already installed and you are actually running the interactive prompt.\n",
    "This also means you can skip the installation section of this tutorial.\n",
    "\n",
    "## Installing Python\n",
    "To install python head over to the [python download page](https://www.python.org/downloads/).\n",
    "Once here you can select the python3 version or the python2 version. This tutorial will work \n",
    "with both of the versions.\n",
    "\n",
    "Once you select and download the version, run the installer. For the python3 version,\n",
    "be sure to select the box \"Add Python 3.6(or other version #) to PATH\". Doing so will ensure\n",
    "that code you write in other text editors will work.\n",
    "\n",
    "Once the installer is finished, open up your command prompt(PC) or terminal(MAC) and type:\n",
    "\n",
    "    python\n",
    "\n",
    "Now you should see the interactive shell. This also means that python is correctly installed on\n",
    "your machine.\n",
    "\n",
    "# Opening up the Python IDLE\n",
    "The IDLE is a shell/terminal that is able to run and write python programs.\n",
    "\n",
    "### PC\n",
    "on PC go to the Start menu and search \"IDLE\". This should bring up either the python3 IDLE or the python2 IDLE. Then open the program. This will look very similar to the python shell you can see in the command prompt.\n",
    "\n",
    "### MAC\n",
    "on MAC go to the Launchpad. From here look for IDLE and open it.\n",
    "\n",
    "\n",
    "From here will just type the following code:"
   ]
  },
  {
   "cell_type": "code",
   "execution_count": 1,
   "metadata": {},
   "outputs": [
    {
     "name": "stdout",
     "output_type": "stream",
     "text": [
      "hello world\n"
     ]
    }
   ],
   "source": [
    ">>> print('hello world')"
   ]
  },
  {
   "cell_type": "markdown",
   "metadata": {},
   "source": [
    "## What did we just do?\n",
    "This is a very simple program that is done in every language. It is called the 'hello world' program.\n",
    "It is usually used as an intro due to how easy it is to write. In some other languages you might need a few more lines of code to get it to work, but with python it can be done in only one line.\n",
    "\n",
    "# Making your first program file\n",
    "In the IDLE go to:\n",
    "\n",
    "    File > New File\n",
    "\n",
    "\n",
    "This will open up another window. Here we will write our programs. From here on you can write the code in this new file you created. \n",
    "\n",
    "To run your file go to:\n",
    "    \n",
    "    Run > Run Model\n",
    "   \n",
    "If you have not saved the file it will ask you to do so.\n",
    "\n",
    "\n",
    "# Comments\n",
    "A comment is a line that python will skip over. These are usually directions or information that the developer leaves behind to let readers and themselves know what is going on the prorgram. In python the are noted by the # symbol. A multi-line comment is a block of comments that is noted by three single qoutes, and ended by another set of three qoutes.\n",
    "\n",
    "Example:"
   ]
  },
  {
   "cell_type": "code",
   "execution_count": 2,
   "metadata": {},
   "outputs": [
    {
     "name": "stdout",
     "output_type": "stream",
     "text": [
      "this will show!\n"
     ]
    }
   ],
   "source": [
    "# This is a comment\n",
    "\n",
    "\n",
    "'''\n",
    "   This is a mulit line comment.\n",
    "'''\n",
    "\n",
    "print('this will show!')"
   ]
  },
  {
   "cell_type": "markdown",
   "metadata": {},
   "source": [
    "\n",
    "# Variables\n",
    "A variable in python is used to store data. The very cool thing about python is that you can\n",
    "just make a variable without actually saying what it is. Python will interpret the variable depending on what you set it to. For example: "
   ]
  },
  {
   "cell_type": "code",
   "execution_count": 3,
   "metadata": {},
   "outputs": [
    {
     "name": "stdout",
     "output_type": "stream",
     "text": [
      "var_a = 5\n"
     ]
    }
   ],
   "source": [
    "# create a variable called var_a and set it to 5\n",
    "var_a = 5\n",
    "\n",
    "# show the variable to the screen\n",
    "print('var_a =',var_a)"
   ]
  },
  {
   "cell_type": "markdown",
   "metadata": {},
   "source": [
    "To create variabels:\n",
    "\n",
    "-  First use a name that relates to what the variable will be used for.\n",
    "-  Second assign a value to the variable using a = sign\n",
    "\n",
    "there are also other variable types.\n",
    "\n",
    "Int, float, and strings, and lists will be the ones we focus on due to their simplicity.\n",
    "\n",
    "Ex:"
   ]
  },
  {
   "cell_type": "code",
   "execution_count": 4,
   "metadata": {},
   "outputs": [],
   "source": [
    "# this is a string\n",
    "name = 'GitHub'\n",
    "\n",
    "# this is a float\n",
    "pi = 3.141592\n",
    "\n",
    "# lists will be explained later"
   ]
  },
  {
   "cell_type": "markdown",
   "metadata": {},
   "source": [
    "### Performing operations with variables\n",
    "With most variables in python you can perform simple operations, such as adding and subtracting.\n",
    "\n",
    "First number type variables like ints and floats are easier to perform these operations.\n"
   ]
  },
  {
   "cell_type": "code",
   "execution_count": 5,
   "metadata": {},
   "outputs": [
    {
     "name": "stdout",
     "output_type": "stream",
     "text": [
      "var_a + var_b = 20\n"
     ]
    }
   ],
   "source": [
    "var_a = 5\n",
    "var_b = 15\n",
    "var_c = var_a + var_b\n",
    "\n",
    "print('var_a + var_b =', var_c)"
   ]
  },
  {
   "cell_type": "markdown",
   "metadata": {},
   "source": []
  }
 ],
 "metadata": {
  "kernelspec": {
   "display_name": "Python 3",
   "language": "python",
   "name": "python3"
  },
  "language_info": {
   "codemirror_mode": {
    "name": "ipython",
    "version": 3
   },
   "file_extension": ".py",
   "mimetype": "text/x-python",
   "name": "python",
   "nbconvert_exporter": "python",
   "pygments_lexer": "ipython3",
   "version": "3.5.2"
  }
 },
 "nbformat": 4,
 "nbformat_minor": 2
}
