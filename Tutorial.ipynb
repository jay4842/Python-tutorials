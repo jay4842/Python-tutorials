{
 "cells": [
  {
   "cell_type": "markdown",
   "metadata": {},
   "source": [
    "# Getting Started\n",
    "First we need to install python if it is not already on your machine.\n",
    "To check if it is installed:\n",
    "\n",
    "PC: Open up the command prompt or cmd.\n",
    "MAC/OSX: Open up terminal.\n",
    "\n",
    "Then proceed by typing:\n",
    "\n",
    "    python\n",
    "\n",
    "If you see something saying:\n",
    "Python 3.5.2\n",
    "or \n",
    "Python 2.7.14\n",
    "\n",
    "That means it is already installed and you are actually running the interactive prompt.\n",
    "This also means you can skip the installation section of this tutorial.\n",
    "\n",
    "## Installing Python\n",
    "To install python head over to the [python download page](https://www.python.org/downloads/).\n",
    "Once here you can select the python3 version or the python2 version. This tutorial will work \n",
    "with both of the versions.\n",
    "\n",
    "Once you select and download the version, run the installer. For the python3 version,\n",
    "be sure to select the box \"Add Python 3.6(or other version #) to PATH\". Doing so will ensure\n",
    "that code you write in other text editors will work.\n",
    "\n",
    "Once the installer is finished, open up your command prompt(PC) or terminal(MAC) and type:\n",
    "\n",
    "    python\n",
    "\n",
    "Now you should see the interactive shell. This also means that python is correctly installed on\n",
    "your machine.\n",
    "\n",
    "# Opening Up the Python IDLE\n",
    "The IDLE is a shell/terminal that is able to run and write python programs.\n",
    "\n",
    "### PC\n",
    "on PC go to the Start menu and search \"IDLE\". This should bring up either the python3 IDLE or the python2 IDLE. Then open the program. This will look very similar to the python shell you can see in the command prompt.\n",
    "\n",
    "### MAC\n",
    "on MAC go to the Launchpad. From here look for IDLE and open it.\n",
    "\n",
    "\n",
    "From here will just type the following code:"
   ]
  },
  {
   "cell_type": "code",
   "execution_count": 1,
   "metadata": {},
   "outputs": [
    {
     "name": "stdout",
     "output_type": "stream",
     "text": [
      "hello world\n"
     ]
    }
   ],
   "source": [
    ">>> print('hello world')"
   ]
  },
  {
   "cell_type": "markdown",
   "metadata": {},
   "source": [
    "### What Did We Just Do?\n",
    "This is a very simple program that is done in every language. It is called the 'hello world' program.\n",
    "It is usually used as an intro due to how easy it is to write. In some other languages you might need a few more lines of code to get it to work, but with python it can be done in only one line.\n",
    "\n",
    "\n",
    "# Making Your First Program File\n",
    "In the IDLE go to:\n",
    "\n",
    "    File > New File\n",
    "\n",
    "\n",
    "This will open up another window. Here we will write our programs. From here on you can write the code in this new file you created. \n",
    "\n",
    "To run your file go to:\n",
    "    \n",
    "    Run > Run Model\n",
    "   \n",
    "If you have not saved the file it will ask you to do so.\n",
    "\n",
    "\n",
    "# Comments\n",
    "A comment is a line that python will skip over. These are usually directions or information that the developer leaves behind to let readers and themselves know what is going on the prorgram. In python the are noted by the # symbol. A multi-line comment is a block of comments that is noted by three single qoutes, and ended by another set of three qoutes.\n",
    "\n",
    "Example:"
   ]
  },
  {
   "cell_type": "code",
   "execution_count": 2,
   "metadata": {},
   "outputs": [
    {
     "name": "stdout",
     "output_type": "stream",
     "text": [
      "this will show!\n"
     ]
    }
   ],
   "source": [
    "# This is a comment\n",
    "\n",
    "\n",
    "'''\n",
    "   This is a mulit line comment.\n",
    "'''\n",
    "\n",
    "print('this will show!')"
   ]
  },
  {
   "cell_type": "markdown",
   "metadata": {},
   "source": [
    "\n",
    "# Variables\n",
    "A variable in python is used to store data. The very cool thing about python is that you can\n",
    "just make a variable without actually saying what it is. Python will interpret the variable depending on what you set it to. For example: "
   ]
  },
  {
   "cell_type": "code",
   "execution_count": 3,
   "metadata": {},
   "outputs": [
    {
     "name": "stdout",
     "output_type": "stream",
     "text": [
      "var_a = 5\n"
     ]
    }
   ],
   "source": [
    "# create a variable called var_a and set it to 5\n",
    "var_a = 5\n",
    "\n",
    "# show the variable to the screen\n",
    "print('var_a =',var_a)"
   ]
  },
  {
   "cell_type": "markdown",
   "metadata": {},
   "source": [
    "To create variabels:\n",
    "\n",
    "-  First use a name that relates to what the variable will be used for.\n",
    "-  Second assign a value to the variable using a = sign\n",
    "\n",
    "there are also other variable types.\n",
    "\n",
    "Int, float, strings, booleans, and lists will be the ones we focus on due to their simplicity.\n",
    "\n",
    "Ex:"
   ]
  },
  {
   "cell_type": "code",
   "execution_count": 4,
   "metadata": {},
   "outputs": [],
   "source": [
    "# this is a string\n",
    "name = 'GitHub'\n",
    "\n",
    "# this is a float\n",
    "pi = 3.141592\n",
    "\n",
    "# this is a boolean\n",
    "#  they hold True or False values\n",
    "bool_a = True \n",
    "\n",
    "\n",
    "# lists will be explained later"
   ]
  },
  {
   "cell_type": "markdown",
   "metadata": {},
   "source": [
    "#### Performing Operations With Variables\n",
    "With most variables in python you can perform simple operations, such as adding and subtracting.\n",
    "\n",
    "First number type variables like ints and floats are easier to perform these operations.\n"
   ]
  },
  {
   "cell_type": "code",
   "execution_count": 5,
   "metadata": {},
   "outputs": [
    {
     "name": "stdout",
     "output_type": "stream",
     "text": [
      "var_a + var_b = 20\n",
      "var_b - var_a = 10\n"
     ]
    }
   ],
   "source": [
    "# define a few variables\n",
    "var_a = 5\n",
    "var_b = 15\n",
    "var_c = var_a + var_b\n",
    "\n",
    "print('var_a + var_b =', var_c)\n",
    "\n",
    "var_d = var_b - var_a\n",
    "print('var_b - var_a =', var_d)"
   ]
  },
  {
   "cell_type": "markdown",
   "metadata": {},
   "source": [
    "This also works the same with floats.\n",
    "\n",
    "Booleans have differnt operations that apply to them and will be further explained in the conditions section.\n",
    "\n",
    "String work the same way when it comes to adding onto them."
   ]
  },
  {
   "cell_type": "code",
   "execution_count": 6,
   "metadata": {},
   "outputs": [
    {
     "name": "stdout",
     "output_type": "stream",
     "text": [
      "GitHub rocks!\n"
     ]
    }
   ],
   "source": [
    "# the strings we will use\n",
    "name = 'GitHub'\n",
    "extra_line = ' rocks!'\n",
    "\n",
    "print(name + extra_line)"
   ]
  },
  {
   "cell_type": "markdown",
   "metadata": {},
   "source": [
    "However, subtracting from strings is different. It is also refered to as \n",
    "concatenating. Or taking only part of a string."
   ]
  },
  {
   "cell_type": "code",
   "execution_count": 7,
   "metadata": {},
   "outputs": [
    {
     "name": "stdout",
     "output_type": "stream",
     "text": [
      "GitHub rocks!\n",
      "GitHub\n",
      "Hub \n"
     ]
    }
   ],
   "source": [
    "line = 'GitHub rocks!'\n",
    "print(line)      # show the whole string\n",
    "print(line[0:6])  # start at the beginning of the string and stop at 6\n",
    "print(line[3:7]) # start at 3 and stop at 7\n"
   ]
  },
  {
   "cell_type": "markdown",
   "metadata": {},
   "source": [
    "the brackets are used to call certain values from the string. It is also refered to as indexing an string. Inside the brackets you can start by:\n",
    " - First saying where you want to start in the string. Example 0(the first letter)\n",
    " - Second follows a :\n",
    " - Third is the end value, or the stopping point. if left empty, the rest of the string will be shown\n",
    "\n",
    "## Taking User Input\n",
    "To set a variable based off of user input we need to use the input() function. This will allow the user to enter in a value and the press (ENTER) to save the input.\n",
    "\n"
   ]
  },
  {
   "cell_type": "code",
   "execution_count": 8,
   "metadata": {},
   "outputs": [
    {
     "name": "stdout",
     "output_type": "stream",
     "text": [
      "Enter your name ->James Baxter\n",
      "Hello James Baxter\n"
     ]
    }
   ],
   "source": [
    "name = input('Enter your name ->') # ask the user to enter thier name\n",
    "print('Hello',name)"
   ]
  },
  {
   "cell_type": "markdown",
   "metadata": {},
   "source": [
    "\n",
    "# Conditional Statements\n",
    "A conditional statement represents the comparison of two variabels by using a condition. Such like if a is greater than b. Or a is equal to b. These words such as greater than or equal to is what we call a condition.\n",
    "\n",
    "For example:\n",
    "\n",
    " - If 20 is less than 10 = False\n",
    " - If 25 is greater than 24 = True\n",
    " - if 'GitHub' is equal to 'Git Hub' = False\n",
    " \n",
    "These are the general conditional statements in python and other programming languages. These are called IF statements. For example if 20 is less than 10 print to the screen: 20 is not less than 10.\n",
    "\n",
    "These types of statements lead into the concept of decision making. If the condition is true perform a different action compared to if the condition was false.\n"
   ]
  },
  {
   "cell_type": "code",
   "execution_count": 9,
   "metadata": {},
   "outputs": [
    {
     "name": "stdout",
     "output_type": "stream",
     "text": [
      "20 is greater than 10\n"
     ]
    }
   ],
   "source": [
    "# an if statement is ended with a colon \n",
    "if 20 > 10: \n",
    "    print('20 is greater than 10') # this line is also indented by 1\n",
    "    \n",
    "else: # the else statement also ends with a colon\n",
    "    print('for some reason 20 is not greater than 10') # this line is also indented\n",
    "    \n",
    "\n"
   ]
  },
  {
   "cell_type": "markdown",
   "metadata": {},
   "source": [
    "If statements can also be encased by parentheses to help readablity.\n",
    "\n",
    "Here is a list of the conditional operators:\n",
    "- (>) greater than\n",
    "- (<) less than\n",
    "- (==) equal to\n",
    "- (>=) greater or equal to\n",
    "- (<=) less than or equal to\n",
    "\n",
    "These work with everything except boolean variables. Boolean variables use a different types conditions to compare with other booleans. \n"
   ]
  },
  {
   "cell_type": "code",
   "execution_count": 10,
   "metadata": {},
   "outputs": [
    {
     "name": "stdout",
     "output_type": "stream",
     "text": [
      "bool_a and bool_b are True!\n",
      "bool_c is False!\n",
      "bool_a or bool_c is True!\n",
      "The combonation condition works too!\n"
     ]
    }
   ],
   "source": [
    "# we will use some booleans as an example\n",
    "bool_a = True\n",
    "bool_b = True\n",
    "bool_c = False\n",
    "\n",
    "# using the and keyword we can see if both are True\n",
    "if(bool_a and bool_b):\n",
    "    print('bool_a and bool_b are True!')\n",
    "\n",
    "# using the not key weyword we can see if the boolean is False\n",
    "if(not bool_c):\n",
    "    print('bool_c is False!')\n",
    "    \n",
    "# using the keyword or we can see if either one of the booleans is True\n",
    "if(bool_a or bool_c):\n",
    "    print('bool_a or bool_c is True!')\n",
    "\n",
    "# These operators only work on boolean conditions, you can use them along with the ones \n",
    "#  previously discussed as well\n",
    "if((20 > 10) and (bool_a or bool_c)):\n",
    "    print('The combonation condition works too!')\n",
    "\n"
   ]
  },
  {
   "cell_type": "markdown",
   "metadata": {},
   "source": [
    "\n",
    "Here is a list of the other operators just used:\n",
    "- and (used to check if two conditions/booleans are both True)\n",
    "- or (used to check if one out of two conditions/booleans are True)\n",
    "- not (used to check if one condition/boolean is False)\n",
    "\n",
    "These make up the basic componets of decision making\n",
    "\n",
    "\n",
    "# Loops\n",
    "A loop is statement that will run a block of code until the statement is complete. For example:\n",
    "\n",
    "    While program is running, check for user input. If the user chooses to exit the program the \n",
    "    program will stop running.\n",
    "    \n",
    "There are different types of loops. The two that will be covered in this section is the While loop, and the For loop.\n",
    "\n",
    "### A While Loop\n",
    "Like the example above, a while loop will run while a condtion is true. This condition does have to become false for the loop to stop, or else the program will be stuck in said loop.\n",
    "\n",
    "\n"
   ]
  },
  {
   "cell_type": "code",
   "execution_count": 11,
   "metadata": {},
   "outputs": [
    {
     "name": "stdout",
     "output_type": "stream",
     "text": [
      "counter = 0\n",
      "counter = 1\n",
      "counter = 2\n",
      "counter = 3\n",
      "counter = 4\n",
      "counter = 5\n",
      "counter = 6\n",
      "counter = 7\n",
      "counter = 8\n",
      "counter = 9\n"
     ]
    }
   ],
   "source": [
    "# make a counter variable to assist the condition statement\n",
    "counter = 0\n",
    "\n",
    "# the actual loop condition\n",
    "while counter < 10:   # while counter is less than 10 run the body of the loop\n",
    "    print('counter =',counter)\n",
    "    counter = counter + 1  # be sure to add to counter to satisfy the loop condition"
   ]
  },
  {
   "cell_type": "markdown",
   "metadata": {},
   "source": [
    "### A For Loop\n",
    "A for loop is a little differnt. Inside the condition statement, it will also increment the counter value. The for loop also defines its own counter value to be used inside the loop.\n"
   ]
  },
  {
   "cell_type": "code",
   "execution_count": 12,
   "metadata": {},
   "outputs": [
    {
     "name": "stdout",
     "output_type": "stream",
     "text": [
      "counter = 0\n",
      "counter = 1\n",
      "counter = 2\n",
      "counter = 3\n",
      "counter = 4\n",
      "counter = 5\n",
      "counter = 6\n",
      "counter = 7\n",
      "counter = 8\n",
      "counter = 9\n"
     ]
    }
   ],
   "source": [
    "# the condition line\n",
    "for counter in range(10): # this states that the loop will run 10 times\n",
    "    print('counter =', counter)"
   ]
  },
  {
   "attachments": {},
   "cell_type": "markdown",
   "metadata": {},
   "source": [
    "The structure of the loop broken down:\n",
    "- First the for keyword is used to state what type of loop is being used\n",
    "- Second comes the name of your counter variable\n",
    "- Third is the in keyword. meaning that counter will refrence what follows the in keyword\n",
    "- Forth range(10). While counter is not 10 preform the code, then add one to it.\n",
    "\n",
    "### Which One Should You Use?\n",
    "This is always a topic that developers will discuss amungst each other.\n",
    "\n",
    "First off the while loop is a pure condition loop. It relies on something being True to run.\n",
    "Compared to the For loop, the counter runs for so many times based on what is besides the in keyword. \n",
    "\n",
    "The for loop is generally used to loop through lists of items, and the While loop is usually used to serve as a control loop. Or something that keeps a program running until a condition is met.\n",
    "\n",
    "# Lists\n",
    "Lists are a collection of variables. They can be different types of data as well. In your list you could put strings and integers.\n",
    "\n"
   ]
  },
  {
   "cell_type": "code",
   "execution_count": 13,
   "metadata": {},
   "outputs": [
    {
     "name": "stdout",
     "output_type": "stream",
     "text": [
      "[90.5, 90.3, 85.4, 70.0]\n",
      "[90.5, 90.3, 85.4, 70.0]\n"
     ]
    }
   ],
   "source": [
    "# lists can be defined in two ways\n",
    "grades = [90.5,90.3,85.4,70.0]     # create a list by using brackets followed by your data\n",
    "\n",
    "print(grades)\n",
    "\n",
    "# create a list by defining a variable as a list\n",
    "grades = list()\n",
    "\n",
    "# then adding or appending values to it\n",
    "grades.append(90.5)\n",
    "grades.append(90.3)\n",
    "grades.append(85.4)\n",
    "grades.append(70.0)\n",
    "\n",
    "print(grades)\n"
   ]
  },
  {
   "cell_type": "markdown",
   "metadata": {},
   "source": [
    "They end up looking exactly the same. You can also use the append funciton with the first list too.\n",
    "\n",
    "Other helpful functions list have:\n",
    "- len(list) Returns the number of elements in list\n",
    "\n",
    "- cmp (lsit_1,list_2) Returns True if the two lists have the same elements\n",
    "\n",
    "- max(list) Returns the maximum value stored in list\n",
    "\n",
    "- min(list) Returns the minimum value stored in list\n",
    "\n",
    "- list.sort() Will sort the list from smallest to largest value\n",
    "\n",
    "More on lists can be found on the [Python API website](https://docs.python.org/3/tutorial/datastructures.html)"
   ]
  },
  {
   "cell_type": "markdown",
   "metadata": {},
   "source": [
    "\n",
    "# What is A Function?\n",
    "I have mentioned functions, like print() and input(), as well as range(). These are actually functions. They are actually blocks of code that respond based on what is inside the parentheses.\n",
    "\n",
    "The items inside these parentheses are called parameters. They are very much like variables you pass to a function to help it perform a task.\n"
   ]
  },
  {
   "cell_type": "code",
   "execution_count": 14,
   "metadata": {},
   "outputs": [
    {
     "name": "stdout",
     "output_type": "stream",
     "text": [
      "hello!\n"
     ]
    }
   ],
   "source": [
    "# your first function\n",
    "def hello():          # the def keyword says that you about to define a function, it is followed\n",
    "    print('hello!')   #  by the functions name and finished by parentheses and a colon\n",
    "    \n",
    "# now call the function (make sure to call it after you define it)\n",
    "hello() "
   ]
  },
  {
   "cell_type": "markdown",
   "metadata": {},
   "source": [
    "Notice how this function has no parameters? This is because some functions will actually not need to be given any additional information.\n",
    "\n",
    "For example this next function will be a similar hello function, but it will have a parameter"
   ]
  },
  {
   "cell_type": "code",
   "execution_count": 15,
   "metadata": {},
   "outputs": [
    {
     "name": "stdout",
     "output_type": "stream",
     "text": [
      "hello!\n",
      "\n",
      "hello!\n",
      "hello!\n",
      "hello!\n",
      "hello!\n",
      "hello!\n"
     ]
    }
   ],
   "source": [
    "# your first function\n",
    "def hello():          # the def keyword says that you about to define a function, it is followed\n",
    "    print('hello!')   #  by the functions name and finished by parentheses and a colon\n",
    "    \n",
    "# this one will be similar but it will have a parameter to tell the function how many times to loop\n",
    "def hello_two(loop):\n",
    "    for counter in range(loop): # loop till counter reaches the value of loop\n",
    "        print('hello!')\n",
    "\n",
    "# call the first one\n",
    "hello()\n",
    "\n",
    "print('') # print an extra line to split up the output\n",
    "\n",
    "# call the second one with a loop number of 5\n",
    "hello_two(5)"
   ]
  },
  {
   "cell_type": "markdown",
   "metadata": {},
   "source": [
    "\n",
    "You can add multiple parameters depending on what you need to function to do.\n",
    "For example if you wanted to multiply two numbers together:"
   ]
  },
  {
   "cell_type": "code",
   "execution_count": 16,
   "metadata": {},
   "outputs": [
    {
     "name": "stdout",
     "output_type": "stream",
     "text": [
      "product = 40\n"
     ]
    }
   ],
   "source": [
    "# This one have two parameters\n",
    "def multi(a,b):\n",
    "    return a * b # this will return the result of a * b\n",
    "\n",
    "product = multi(2,20) # pass two numbers to multiply\n",
    "print('product =',product)\n",
    "\n"
   ]
  },
  {
   "cell_type": "markdown",
   "metadata": {},
   "source": [
    "One thing different here is the return keyword. This can return a value or other object from a function. In this instance we just return the product of a and b. \n",
    "\n",
    "## Why Use Functions?\n",
    "Functions can seem useless in this small scale. But when you start creating a larger program, you might not want to write out long operations over and over again. Creating a function can make performing these long operations a lot easier for you.\n",
    "\n",
    "Functions also split up a program, they can also affect how easy to read your code is too.\n",
    "\n",
    "\n",
    "# Classes\n",
    "A class is a user defined collection of variables and functions at its lowest definition.\n",
    "\n",
    "##### Instance\n",
    "An Instance is an individual object of a class. All of the items that belong to the class also belong to the instance.\n",
    "\n",
    "##### Class Variable\n",
    "A class variable is a variable that is shared with all instances of the class.\n",
    "\n",
    "##### Constructor\n",
    "This is a special function that defines an instance of class.\n",
    "\n",
    "### What makes up a class?\n",
    "- First a class name that represents what that class will do/contain\n",
    "- Second are Class Variables\n",
    "- Third is the classes constructor to define instances of the class\n",
    "    - This contains variables that are unique to each instance of the class  \n",
    "- Forth functions that belong to the class\n",
    "\n",
    "Example:"
   ]
  },
  {
   "cell_type": "code",
   "execution_count": 17,
   "metadata": {},
   "outputs": [
    {
     "name": "stdout",
     "output_type": "stream",
     "text": [
      "Rectangle # 0\n",
      "Width  = 5\n",
      "Height = 10\n"
     ]
    }
   ],
   "source": [
    "# This class will just represt a rectangle\n",
    "class Rect:\n",
    "    'Optional calss documentation string' # this is much like a comment specific to classes\n",
    "    rect_count = 0 \n",
    "    \n",
    "    # the parameters will be used to set the variables of the Rectangle\n",
    "    \n",
    "    def __init__(self,width,height): # this is the construcor, it is denoted by the __init__ word\n",
    "        self.width = width           # self is passed to represent the instance of the class\n",
    "        self.height = height\n",
    "        self.rect_number = Rect.rect_count # to keep track of which rectangle this specific one is\n",
    "        Rect.rect_count = Rect.rect_count + 1  # add to the class count\n",
    "        # the actual class needs to be used to \n",
    "        #  acsess the counter variable\n",
    "        \n",
    "    def display_rect(self): # this will display the size of the rect\n",
    "        print('Rectangle #',self.rect_number)\n",
    "        print('Width  =', self.width)\n",
    "        print('Height =', self.height)\n",
    "    \n",
    "# end of class definition\n",
    "\n",
    "\n",
    "rect_1 = Rect(5,10)\n",
    "rect_1.display_rect()\n",
    "        "
   ]
  },
  {
   "cell_type": "markdown",
   "metadata": {},
   "source": [
    "-  To declare a class you use the class keyword followed by what you are naming the class and then a \n",
    "     colon.\n",
    "\n",
    "-  Next is the class variables that will be shared with other instances of the class.\n",
    "\n",
    "-  Then the class constructor or initializer. Like all functions it can have parameters, the only\n",
    "     difference with class functions is the self keyword. This is used to refrence the variables that\n",
    "     will belong to each instance of a class. They are not shared with other instances.\n",
    "   -  Inside the constructor is the variable definitions. Notice again how self is used to declare\n",
    "        the variables that belond to instances only.\n",
    "   -  This is also where you can add to the class counter.\n",
    "    \n",
    "-  Again all functions that belong to a class have the self parameter. You can define other methods\n",
    "     that would belong to a rectangle class, such as get_perimeter, or get_area. these would just be\n",
    "     defined much like the display_rect function, but this time they would return something.\n"
   ]
  },
  {
   "cell_type": "code",
   "execution_count": 18,
   "metadata": {},
   "outputs": [
    {
     "name": "stdout",
     "output_type": "stream",
     "text": [
      "Rectangle # 0\n",
      "Width     = 5\n",
      "Height    = 10\n",
      "Perimeter = 30\n",
      "Area      = 50\n"
     ]
    }
   ],
   "source": [
    "# This class will just represt a rectangle\n",
    "class Rect:\n",
    "    'Optional calss documentation string' # this is much like a comment specific to classes\n",
    "    rect_count = 0 \n",
    "    \n",
    "    # the parameters will be used to set the variables of the Rectangle\n",
    "    \n",
    "    def __init__(self,width,height): # this is the construcor, it is denoted by the __init__ word\n",
    "        self.width = width           # self is passed to represent the instance of the class\n",
    "        self.height = height\n",
    "        self.rect_number = Rect.rect_count # to keep track of which rectangle this specific one is\n",
    "        Rect.rect_count = Rect.rect_count + 1  # add to the class count\n",
    "        # the actual class needs to be used to \n",
    "        #  acsess the counter variable\n",
    "    \n",
    "    # added functions \n",
    "    \n",
    "    # this will return the perameter of the rectangle, w + w + h + h\n",
    "    def get_perimeter(self):\n",
    "        return (self.width * 2 + self.height*2)\n",
    "    \n",
    "    # this will return the area of the rectangle, w * h\n",
    "    def get_area(self):\n",
    "        return (self.width * self.height)\n",
    "    \n",
    "    \n",
    "    def display_rect(self): # this will display the size of the rect\n",
    "        print('Rectangle #', self.rect_number)\n",
    "        print('Width     =', self.width)\n",
    "        print('Height    =', self.height)\n",
    "        print('Perimeter =', self.get_perimeter())\n",
    "        print('Area      =', self.get_area())\n",
    "    \n",
    "# end of class definition\n",
    "\n",
    "\n",
    "rect_1 = Rect(5,10)\n",
    "rect_1.display_rect()"
   ]
  },
  {
   "cell_type": "markdown",
   "metadata": {},
   "source": [
    "# Putting All of This Together\n",
    "This is the end of the learning section. Now two examples will be given to show how to use what was learned in larger programs.\n",
    "\n",
    "## Vending Machine Example\n",
    "\n",
    "This will include a few topics that have been explained:\n",
    "- Variables\n",
    "- User input\n",
    "- Decision making/if else statements\n",
    "- And Loops\n",
    "\n",
    "This 'vending machine' will give the user a few choices to choose from. These choices will have amounts set at the start of the program. The user will be able to choose a certain item, decreasing the amount. Once the user enters the Exit choice, the program will end.\n",
    "\n"
   ]
  },
  {
   "cell_type": "code",
   "execution_count": 19,
   "metadata": {},
   "outputs": [
    {
     "name": "stdout",
     "output_type": "stream",
     "text": [
      "\n",
      " -----------------------\n",
      "1) Apple Juice     - 10\n",
      "2) Grape Juice     - 10\n",
      "3) Orange Juice    - 10\n",
      "4) Cranberry Juice - 10\n",
      "5) Exit \n",
      "Select A Drink -> 1\n",
      "Vending Apple Juice!\n",
      "\n",
      " -----------------------\n",
      "1) Apple Juice     - 9\n",
      "2) Grape Juice     - 10\n",
      "3) Orange Juice    - 10\n",
      "4) Cranberry Juice - 10\n",
      "5) Exit \n",
      "Select A Drink -> 2\n",
      "Vending Grape Juice!\n",
      "\n",
      " -----------------------\n",
      "1) Apple Juice     - 9\n",
      "2) Grape Juice     - 9\n",
      "3) Orange Juice    - 10\n",
      "4) Cranberry Juice - 10\n",
      "5) Exit \n",
      "Select A Drink -> 3\n",
      "Vending Orange Juice!\n",
      "\n",
      " -----------------------\n",
      "1) Apple Juice     - 9\n",
      "2) Grape Juice     - 9\n",
      "3) Orange Juice    - 9\n",
      "4) Cranberry Juice - 10\n",
      "5) Exit \n",
      "Select A Drink -> 9\n",
      "Invalid Input!\n",
      "\n",
      " -----------------------\n",
      "1) Apple Juice     - 9\n",
      "2) Grape Juice     - 9\n",
      "3) Orange Juice    - 9\n",
      "4) Cranberry Juice - 10\n",
      "5) Exit \n",
      "Select A Drink -> 4\n",
      "Vending Craneberry Juice!\n",
      "\n",
      " -----------------------\n",
      "1) Apple Juice     - 9\n",
      "2) Grape Juice     - 9\n",
      "3) Orange Juice    - 9\n",
      "4) Cranberry Juice - 9\n",
      "5) Exit \n",
      "Select A Drink -> 5\n",
      "Thank You Come Again!\n"
     ]
    }
   ],
   "source": [
    "# first lets set up the choices\n",
    "choice_1 = 10\n",
    "choice_2 = 10\n",
    "choice_3 = 10\n",
    "choice_4 = 10\n",
    "\n",
    "# now the user input and running variable\n",
    "choice = 0\n",
    "running = True\n",
    "\n",
    "# the while loop which will control the program\n",
    "while running:\n",
    "    print('') # an empty line for formatting\n",
    "    print(' -----------------------')\n",
    "    # now we need to give the user a menu to decide what to input\n",
    "    print('1) Apple Juice     -',choice_1)\n",
    "    print('2) Grape Juice     -',choice_2)\n",
    "    print('3) Orange Juice    -',choice_3)\n",
    "    print('4) Cranberry Juice -',choice_4)\n",
    "    print('5) Exit ')\n",
    "    \n",
    "    # not get the users input\n",
    "    choice = int(input('Select A Drink -> ')) # the int before the input makes sure that the users choice is an int type\n",
    "                                              # if it was not an int it would cause the program to crash!\n",
    "        \n",
    "    # if the user wants an apple juice\n",
    "    if choice == 1:\n",
    "        # first check if there is any apple juice left\n",
    "        if choice_1 > 0:\n",
    "            # reduce one from choice_1 and print out what the choice was\n",
    "            choice_1 = choice_1 - 1\n",
    "            print('Vending Apple Juice!')\n",
    "        else:\n",
    "            print('OUT OF STOCK') # else notify the user there is none left\n",
    "        \n",
    "    # now we do an else if or elif, meaning the previous condition was false\n",
    "        \n",
    "    elif choice == 2: # check if the input is for grape juice\n",
    "        # first check if there is any grape juice left\n",
    "        if choice_2 > 0:\n",
    "            # reduce one from choice_2 and print out what the choice was\n",
    "            choice_2 = choice_2 - 1\n",
    "            print('Vending Grape Juice!')\n",
    "        else:\n",
    "            print('OUT OF STOCK') # else notify the user there is none left\n",
    "        \n",
    "    # check if the input is for orange juice\n",
    "    elif choice == 3: \n",
    "        # first check if there is any orange juice left\n",
    "        if choice_3 > 0:\n",
    "            # reduce one from choice_3 and print out what the choice was\n",
    "            choice_3 = choice_3 - 1\n",
    "            print('Vending Orange Juice!')\n",
    "        else:\n",
    "            print('OUT OF STOCK') # else notify the user there is none left\n",
    "            \n",
    "    # check if the input is for craneberry juice\n",
    "    elif choice == 4: \n",
    "        # first check if there is any craneberry juice left\n",
    "        if choice_4 > 0:\n",
    "            # reduce one from choice_4 and print out what the choice was\n",
    "            choice_4 = choice_4 - 1\n",
    "            print('Vending Craneberry Juice!')\n",
    "        else:\n",
    "            print('OUT OF STOCK') # else notify the user there is none left\n",
    "    \n",
    "    elif choice == 5:\n",
    "        print('Thank You Come Again!')\n",
    "        running = False # make sure to end the loop!\n",
    "    \n",
    "    else:\n",
    "        print('Invalid Input!')\n",
    "    "
   ]
  },
  {
   "cell_type": "markdown",
   "metadata": {},
   "source": [
    "#### What is elif?\n",
    "This is a new statement above. ELIF, usually follows an if, mainly to check if there is another option you would like to check for. Such as if there are multiple choices at a vending machine to make. \n",
    "\n",
    "#### The Rest of The Program\n",
    "First we defined some variables to serve as our choices, and control the while loop. Then a menu needs to be displayed to show the users what do do. After allowing the users to input a choice, a series of if and elif statements will be used to decide what item is chosen from the vending machine. If the user enters something that is not a choice, notify them. And finally if the user enters 5 end the program.\n",
    "\n",
    "#### Other Items That Could Make the Program Better\n"
   ]
  }
 ],
 "metadata": {
  "kernelspec": {
   "display_name": "Python 3",
   "language": "python",
   "name": "python3"
  },
  "language_info": {
   "codemirror_mode": {
    "name": "ipython",
    "version": 3
   },
   "file_extension": ".py",
   "mimetype": "text/x-python",
   "name": "python",
   "nbconvert_exporter": "python",
   "pygments_lexer": "ipython3",
   "version": "3.5.2"
  }
 },
 "nbformat": 4,
 "nbformat_minor": 2
}
